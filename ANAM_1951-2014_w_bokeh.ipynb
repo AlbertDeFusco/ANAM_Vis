{
 "cells": [
  {
   "cell_type": "markdown",
   "metadata": {},
   "source": [
    "# Accidents in North American Mountineering\n",
    "Analysis and visual summary of accident data collected in [Accidents in North American Mountaineering](https://www.americanalpineclub.org/p/anam) (ANAM) from 1951 to 2014. ANAM is published annualy by the [American Alpine Club](https://www.americanalpineclub.org/). The data is included here in three Excel spreadsheets. Have fun and come up with your own analysis!\n",
    "\n",
    "Code and data obtained from [Michael Skaug's github page](https://github.com/mikeskaug/ANAM_Vis)\n",
    "\n",
    "### Dependencies:\n",
    "Dependencies defined in conda's environment.yml\n"
   ]
  },
  {
   "cell_type": "code",
   "execution_count": 1,
   "metadata": {
    "collapsed": true
   },
   "outputs": [],
   "source": [
    "import pandas as pd\n",
    "import numpy as np"
   ]
  },
  {
   "cell_type": "code",
   "execution_count": 2,
   "metadata": {
    "collapsed": false
   },
   "outputs": [],
   "source": [
    "exfile = pd.ExcelFile('ANAM_1951-2014_byregion.xlsx')\n",
    "df = exfile.parse('Sheet1', header=[3, 4], na_values='n/a')"
   ]
  },
  {
   "cell_type": "code",
   "execution_count": 3,
   "metadata": {
    "collapsed": false
   },
   "outputs": [
    {
     "data": {
      "text/html": [
       "<div>\n",
       "<table border=\"1\" class=\"dataframe\">\n",
       "  <thead>\n",
       "    <tr>\n",
       "      <th></th>\n",
       "      <th colspan=\"3\" halign=\"left\">1951–2013</th>\n",
       "      <th colspan=\"3\" halign=\"left\">2014</th>\n",
       "    </tr>\n",
       "    <tr>\n",
       "      <th>Geographical Districts</th>\n",
       "      <th>Number of Accidents</th>\n",
       "      <th>Deaths</th>\n",
       "      <th>Total Persons Involved</th>\n",
       "      <th>Number of Accidents</th>\n",
       "      <th>Deaths</th>\n",
       "      <th>Total Persons Involved</th>\n",
       "    </tr>\n",
       "    <tr>\n",
       "      <th>Canada*</th>\n",
       "      <th></th>\n",
       "      <th></th>\n",
       "      <th></th>\n",
       "      <th></th>\n",
       "      <th></th>\n",
       "      <th></th>\n",
       "    </tr>\n",
       "  </thead>\n",
       "  <tbody>\n",
       "    <tr>\n",
       "      <th>Alberta</th>\n",
       "      <td>539.0</td>\n",
       "      <td>145.0</td>\n",
       "      <td>1063.0</td>\n",
       "      <td>6.0</td>\n",
       "      <td>0.0</td>\n",
       "      <td>10.0</td>\n",
       "    </tr>\n",
       "    <tr>\n",
       "      <th>British Columbia</th>\n",
       "      <td>321.0</td>\n",
       "      <td>122.0</td>\n",
       "      <td>658.0</td>\n",
       "      <td>3.0</td>\n",
       "      <td>1.0</td>\n",
       "      <td>5.0</td>\n",
       "    </tr>\n",
       "    <tr>\n",
       "      <th>Yukon Territory</th>\n",
       "      <td>38.0</td>\n",
       "      <td>28.0</td>\n",
       "      <td>79.0</td>\n",
       "      <td>1.0</td>\n",
       "      <td>0.0</td>\n",
       "      <td>4.0</td>\n",
       "    </tr>\n",
       "    <tr>\n",
       "      <th>New Brunswick</th>\n",
       "      <td>1.0</td>\n",
       "      <td>0.0</td>\n",
       "      <td>0.0</td>\n",
       "      <td>NaN</td>\n",
       "      <td>NaN</td>\n",
       "      <td>NaN</td>\n",
       "    </tr>\n",
       "    <tr>\n",
       "      <th>Ontario</th>\n",
       "      <td>38.0</td>\n",
       "      <td>9.0</td>\n",
       "      <td>68.0</td>\n",
       "      <td>1.0</td>\n",
       "      <td>0.0</td>\n",
       "      <td>1.0</td>\n",
       "    </tr>\n",
       "  </tbody>\n",
       "</table>\n",
       "</div>"
      ],
      "text/plain": [
       "                                 1951–2013                                \\\n",
       "Geographical Districts Number of Accidents Deaths Total Persons Involved   \n",
       "Canada*                                                                    \n",
       "Alberta                              539.0  145.0                 1063.0   \n",
       "British Columbia                     321.0  122.0                  658.0   \n",
       "Yukon Territory                       38.0   28.0                   79.0   \n",
       "New Brunswick                          1.0    0.0                    0.0   \n",
       "Ontario                               38.0    9.0                   68.0   \n",
       "\n",
       "                                      2014                                \n",
       "Geographical Districts Number of Accidents Deaths Total Persons Involved  \n",
       "Canada*                                                                   \n",
       "Alberta                                6.0    0.0                   10.0  \n",
       "British Columbia                       3.0    1.0                    5.0  \n",
       "Yukon Territory                        1.0    0.0                    4.0  \n",
       "New Brunswick                          NaN    NaN                    NaN  \n",
       "Ontario                                1.0    0.0                    1.0  "
      ]
     },
     "execution_count": 3,
     "metadata": {},
     "output_type": "execute_result"
    }
   ],
   "source": [
    "mi = df.columns\n",
    "df.head()"
   ]
  },
  {
   "cell_type": "code",
   "execution_count": 4,
   "metadata": {
    "collapsed": true
   },
   "outputs": [],
   "source": [
    "exfile = pd.ExcelFile('ANAM_1951-2014_bytype.xlsx')\n",
    "df_type = exfile.parse('Sheet1')"
   ]
  },
  {
   "cell_type": "code",
   "execution_count": 5,
   "metadata": {
    "collapsed": false
   },
   "outputs": [],
   "source": [
    "df_type.drop('Terrain', inplace=True)"
   ]
  },
  {
   "cell_type": "code",
   "execution_count": 6,
   "metadata": {
    "collapsed": false
   },
   "outputs": [
    {
     "data": {
      "text/plain": [
       "[('Canada', 'Alberta'),\n",
       " ('Canada', 'British Columbia'),\n",
       " ('Canada', 'Yukon Territory'),\n",
       " ('Canada', 'New Brunswick'),\n",
       " ('Canada', 'Ontario'),\n",
       " ('Canada', 'Quebec'),\n",
       " ('Canada', 'East Arctic'),\n",
       " ('Canada', 'West Arctic'),\n",
       " ('Canada', 'Practice Cliffs1'),\n",
       " ('US', 'Alaska'),\n",
       " ('US', 'Arizona, Nevada, Texas'),\n",
       " ('US', 'Atlantic–North'),\n",
       " ('US', 'Atlantic–South'),\n",
       " ('US', 'California'),\n",
       " ('US', 'Central'),\n",
       " ('US', 'Colorado'),\n",
       " ('US', 'Montana, Idaho, South Dakota'),\n",
       " ('US', 'Oregon'),\n",
       " ('US', 'Utah, New Mex.'),\n",
       " ('US', 'Washington'),\n",
       " ('US', 'Wyoming')]"
      ]
     },
     "execution_count": 6,
     "metadata": {},
     "output_type": "execute_result"
    }
   ],
   "source": [
    "ix = (df.index == 'United States').argmax()\n",
    "new_idx = [('Canada', i.strip()) for i in df.index[:ix] if i is not np.nan]\n",
    "new_idx.extend([('US', i.strip()) for i in df.index[ix:] if i != 'United States'])\n",
    "new_idx"
   ]
  },
  {
   "cell_type": "code",
   "execution_count": 7,
   "metadata": {
    "collapsed": false
   },
   "outputs": [],
   "source": [
    "df2 = df.drop(['United States', np.NaN])\n",
    "df2.index.name = None"
   ]
  },
  {
   "cell_type": "code",
   "execution_count": 8,
   "metadata": {
    "collapsed": false
   },
   "outputs": [
    {
     "data": {
      "text/html": [
       "<div>\n",
       "<table border=\"1\" class=\"dataframe\">\n",
       "  <thead>\n",
       "    <tr>\n",
       "      <th></th>\n",
       "      <th colspan=\"3\" halign=\"left\">1951–2013</th>\n",
       "      <th colspan=\"3\" halign=\"left\">2014</th>\n",
       "    </tr>\n",
       "    <tr>\n",
       "      <th>Geographical Districts</th>\n",
       "      <th>Number of Accidents</th>\n",
       "      <th>Deaths</th>\n",
       "      <th>Total Persons Involved</th>\n",
       "      <th>Number of Accidents</th>\n",
       "      <th>Deaths</th>\n",
       "      <th>Total Persons Involved</th>\n",
       "    </tr>\n",
       "  </thead>\n",
       "  <tbody>\n",
       "    <tr>\n",
       "      <th>Alberta</th>\n",
       "      <td>539.0</td>\n",
       "      <td>145.0</td>\n",
       "      <td>1063.0</td>\n",
       "      <td>6.0</td>\n",
       "      <td>0.0</td>\n",
       "      <td>10.0</td>\n",
       "    </tr>\n",
       "    <tr>\n",
       "      <th>British Columbia</th>\n",
       "      <td>321.0</td>\n",
       "      <td>122.0</td>\n",
       "      <td>658.0</td>\n",
       "      <td>3.0</td>\n",
       "      <td>1.0</td>\n",
       "      <td>5.0</td>\n",
       "    </tr>\n",
       "    <tr>\n",
       "      <th>Yukon Territory</th>\n",
       "      <td>38.0</td>\n",
       "      <td>28.0</td>\n",
       "      <td>79.0</td>\n",
       "      <td>1.0</td>\n",
       "      <td>0.0</td>\n",
       "      <td>4.0</td>\n",
       "    </tr>\n",
       "    <tr>\n",
       "      <th>New Brunswick</th>\n",
       "      <td>1.0</td>\n",
       "      <td>0.0</td>\n",
       "      <td>0.0</td>\n",
       "      <td>NaN</td>\n",
       "      <td>NaN</td>\n",
       "      <td>NaN</td>\n",
       "    </tr>\n",
       "    <tr>\n",
       "      <th>Ontario</th>\n",
       "      <td>38.0</td>\n",
       "      <td>9.0</td>\n",
       "      <td>68.0</td>\n",
       "      <td>1.0</td>\n",
       "      <td>0.0</td>\n",
       "      <td>1.0</td>\n",
       "    </tr>\n",
       "  </tbody>\n",
       "</table>\n",
       "</div>"
      ],
      "text/plain": [
       "                                 1951–2013                                \\\n",
       "Geographical Districts Number of Accidents Deaths Total Persons Involved   \n",
       "Alberta                              539.0  145.0                 1063.0   \n",
       "British Columbia                     321.0  122.0                  658.0   \n",
       "Yukon Territory                       38.0   28.0                   79.0   \n",
       "New Brunswick                          1.0    0.0                    0.0   \n",
       "Ontario                               38.0    9.0                   68.0   \n",
       "\n",
       "                                      2014                                \n",
       "Geographical Districts Number of Accidents Deaths Total Persons Involved  \n",
       "Alberta                                6.0    0.0                   10.0  \n",
       "British Columbia                       3.0    1.0                    5.0  \n",
       "Yukon Territory                        1.0    0.0                    4.0  \n",
       "New Brunswick                          NaN    NaN                    NaN  \n",
       "Ontario                                1.0    0.0                    1.0  "
      ]
     },
     "execution_count": 8,
     "metadata": {},
     "output_type": "execute_result"
    }
   ],
   "source": [
    "#df2.drop('Canada*')\n",
    "df2.head()"
   ]
  },
  {
   "cell_type": "code",
   "execution_count": 9,
   "metadata": {
    "collapsed": false
   },
   "outputs": [
    {
     "data": {
      "text/html": [
       "<div>\n",
       "<table border=\"1\" class=\"dataframe\">\n",
       "  <thead>\n",
       "    <tr>\n",
       "      <th></th>\n",
       "      <th colspan=\"3\" halign=\"left\">1951–2013</th>\n",
       "      <th colspan=\"3\" halign=\"left\">2014</th>\n",
       "    </tr>\n",
       "    <tr>\n",
       "      <th></th>\n",
       "      <th>Number of Accidents</th>\n",
       "      <th>Deaths</th>\n",
       "      <th>Total Persons Involved</th>\n",
       "      <th>Number of Accidents</th>\n",
       "      <th>Deaths</th>\n",
       "      <th>Total Persons Involved</th>\n",
       "    </tr>\n",
       "  </thead>\n",
       "  <tbody>\n",
       "    <tr>\n",
       "      <th>Alberta</th>\n",
       "      <td>539.0</td>\n",
       "      <td>145.0</td>\n",
       "      <td>1063.0</td>\n",
       "      <td>6.0</td>\n",
       "      <td>0.0</td>\n",
       "      <td>10.0</td>\n",
       "    </tr>\n",
       "    <tr>\n",
       "      <th>British Columbia</th>\n",
       "      <td>321.0</td>\n",
       "      <td>122.0</td>\n",
       "      <td>658.0</td>\n",
       "      <td>3.0</td>\n",
       "      <td>1.0</td>\n",
       "      <td>5.0</td>\n",
       "    </tr>\n",
       "    <tr>\n",
       "      <th>Yukon Territory</th>\n",
       "      <td>38.0</td>\n",
       "      <td>28.0</td>\n",
       "      <td>79.0</td>\n",
       "      <td>1.0</td>\n",
       "      <td>0.0</td>\n",
       "      <td>4.0</td>\n",
       "    </tr>\n",
       "    <tr>\n",
       "      <th>New Brunswick</th>\n",
       "      <td>1.0</td>\n",
       "      <td>0.0</td>\n",
       "      <td>0.0</td>\n",
       "      <td>NaN</td>\n",
       "      <td>NaN</td>\n",
       "      <td>NaN</td>\n",
       "    </tr>\n",
       "    <tr>\n",
       "      <th>Ontario</th>\n",
       "      <td>38.0</td>\n",
       "      <td>9.0</td>\n",
       "      <td>68.0</td>\n",
       "      <td>1.0</td>\n",
       "      <td>0.0</td>\n",
       "      <td>1.0</td>\n",
       "    </tr>\n",
       "  </tbody>\n",
       "</table>\n",
       "</div>"
      ],
      "text/plain": [
       "                           1951–2013                                \\\n",
       "                 Number of Accidents Deaths Total Persons Involved   \n",
       "Alberta                        539.0  145.0                 1063.0   \n",
       "British Columbia               321.0  122.0                  658.0   \n",
       "Yukon Territory                 38.0   28.0                   79.0   \n",
       "New Brunswick                    1.0    0.0                    0.0   \n",
       "Ontario                         38.0    9.0                   68.0   \n",
       "\n",
       "                                2014                                \n",
       "                 Number of Accidents Deaths Total Persons Involved  \n",
       "Alberta                          6.0    0.0                   10.0  \n",
       "British Columbia                 3.0    1.0                    5.0  \n",
       "Yukon Territory                  1.0    0.0                    4.0  \n",
       "New Brunswick                    NaN    NaN                    NaN  \n",
       "Ontario                          1.0    0.0                    1.0  "
      ]
     },
     "execution_count": 9,
     "metadata": {},
     "output_type": "execute_result"
    }
   ],
   "source": [
    "#df2.columns.names = ['year', 'data']\n",
    "df2.columns.names = [None, None]\n",
    "df2.head()"
   ]
  },
  {
   "cell_type": "code",
   "execution_count": 10,
   "metadata": {
    "collapsed": false
   },
   "outputs": [
    {
     "data": {
      "text/plain": [
       "MultiIndex(levels=[['Canada', 'US'], ['Alaska', 'Alberta', 'Arizona, Nevada, Texas', 'Atlantic–North', 'Atlantic–South', 'British Columbia', 'California', 'Central', 'Colorado', 'East Arctic', 'Montana, Idaho, South Dakota', 'New Brunswick', 'Ontario', 'Oregon', 'Practice Cliffs1', 'Quebec', 'Utah, New Mex.', 'Washington', 'West Arctic', 'Wyoming', 'Yukon Territory']],\n",
       "           labels=[[0, 0, 0, 0, 0, 0, 0, 0, 0, 1, 1, 1, 1, 1, 1, 1, 1, 1, 1, 1, 1], [1, 5, 20, 11, 12, 15, 9, 18, 14, 0, 2, 3, 4, 6, 7, 8, 10, 13, 16, 17, 19]])"
      ]
     },
     "execution_count": 10,
     "metadata": {},
     "output_type": "execute_result"
    }
   ],
   "source": [
    "#ix = pd.MultiIndex.from_tuples(new_idx, names=['country', 'region'])\n",
    "ix = pd.MultiIndex.from_tuples(new_idx)\n",
    "ix"
   ]
  },
  {
   "cell_type": "code",
   "execution_count": 11,
   "metadata": {
    "collapsed": false
   },
   "outputs": [
    {
     "data": {
      "text/html": [
       "<div>\n",
       "<table border=\"1\" class=\"dataframe\">\n",
       "  <thead>\n",
       "    <tr>\n",
       "      <th></th>\n",
       "      <th></th>\n",
       "      <th colspan=\"3\" halign=\"left\">1951–2013</th>\n",
       "      <th colspan=\"3\" halign=\"left\">2014</th>\n",
       "    </tr>\n",
       "    <tr>\n",
       "      <th></th>\n",
       "      <th></th>\n",
       "      <th>Number of Accidents</th>\n",
       "      <th>Deaths</th>\n",
       "      <th>Total Persons Involved</th>\n",
       "      <th>Number of Accidents</th>\n",
       "      <th>Deaths</th>\n",
       "      <th>Total Persons Involved</th>\n",
       "    </tr>\n",
       "  </thead>\n",
       "  <tbody>\n",
       "    <tr>\n",
       "      <th rowspan=\"5\" valign=\"top\">Canada</th>\n",
       "      <th>Alberta</th>\n",
       "      <td>539.0</td>\n",
       "      <td>145.0</td>\n",
       "      <td>1063.0</td>\n",
       "      <td>6.0</td>\n",
       "      <td>0.0</td>\n",
       "      <td>10.0</td>\n",
       "    </tr>\n",
       "    <tr>\n",
       "      <th>British Columbia</th>\n",
       "      <td>321.0</td>\n",
       "      <td>122.0</td>\n",
       "      <td>658.0</td>\n",
       "      <td>3.0</td>\n",
       "      <td>1.0</td>\n",
       "      <td>5.0</td>\n",
       "    </tr>\n",
       "    <tr>\n",
       "      <th>Yukon Territory</th>\n",
       "      <td>38.0</td>\n",
       "      <td>28.0</td>\n",
       "      <td>79.0</td>\n",
       "      <td>1.0</td>\n",
       "      <td>0.0</td>\n",
       "      <td>4.0</td>\n",
       "    </tr>\n",
       "    <tr>\n",
       "      <th>New Brunswick</th>\n",
       "      <td>1.0</td>\n",
       "      <td>0.0</td>\n",
       "      <td>0.0</td>\n",
       "      <td>NaN</td>\n",
       "      <td>NaN</td>\n",
       "      <td>NaN</td>\n",
       "    </tr>\n",
       "    <tr>\n",
       "      <th>Ontario</th>\n",
       "      <td>38.0</td>\n",
       "      <td>9.0</td>\n",
       "      <td>68.0</td>\n",
       "      <td>1.0</td>\n",
       "      <td>0.0</td>\n",
       "      <td>1.0</td>\n",
       "    </tr>\n",
       "  </tbody>\n",
       "</table>\n",
       "</div>"
      ],
      "text/plain": [
       "                                  1951–2013                                \\\n",
       "                        Number of Accidents Deaths Total Persons Involved   \n",
       "Canada Alberta                        539.0  145.0                 1063.0   \n",
       "       British Columbia               321.0  122.0                  658.0   \n",
       "       Yukon Territory                 38.0   28.0                   79.0   \n",
       "       New Brunswick                    1.0    0.0                    0.0   \n",
       "       Ontario                         38.0    9.0                   68.0   \n",
       "\n",
       "                                       2014                                \n",
       "                        Number of Accidents Deaths Total Persons Involved  \n",
       "Canada Alberta                          6.0    0.0                   10.0  \n",
       "       British Columbia                 3.0    1.0                    5.0  \n",
       "       Yukon Territory                  1.0    0.0                    4.0  \n",
       "       New Brunswick                    NaN    NaN                    NaN  \n",
       "       Ontario                          1.0    0.0                    1.0  "
      ]
     },
     "execution_count": 11,
     "metadata": {},
     "output_type": "execute_result"
    }
   ],
   "source": [
    "df2.index = ix\n",
    "df2.head()"
   ]
  },
  {
   "cell_type": "code",
   "execution_count": 12,
   "metadata": {
    "collapsed": false
   },
   "outputs": [
    {
     "data": {
      "text/plain": [
       "MultiIndex(levels=[[2014, '1951–2013'], ['Deaths', 'Number of Accidents', 'Total Persons Involved']],\n",
       "           labels=[[1, 1, 1, 0, 0, 0], [1, 0, 2, 1, 0, 2]])"
      ]
     },
     "execution_count": 12,
     "metadata": {},
     "output_type": "execute_result"
    }
   ],
   "source": [
    "df2.index\n",
    "df2.columns"
   ]
  },
  {
   "cell_type": "code",
   "execution_count": 15,
   "metadata": {
    "collapsed": false
   },
   "outputs": [
    {
     "data": {
      "text/html": [
       "<div>\n",
       "<table border=\"1\" class=\"dataframe\">\n",
       "  <thead>\n",
       "    <tr>\n",
       "      <th></th>\n",
       "      <th colspan=\"3\" halign=\"left\">1951–2013</th>\n",
       "      <th colspan=\"3\" halign=\"left\">2014</th>\n",
       "    </tr>\n",
       "    <tr>\n",
       "      <th></th>\n",
       "      <th>Number of Accidents</th>\n",
       "      <th>Deaths</th>\n",
       "      <th>Total Persons Involved</th>\n",
       "      <th>Number of Accidents</th>\n",
       "      <th>Deaths</th>\n",
       "      <th>Total Persons Involved</th>\n",
       "    </tr>\n",
       "  </thead>\n",
       "  <tbody>\n",
       "    <tr>\n",
       "      <th>Alberta</th>\n",
       "      <td>539.0</td>\n",
       "      <td>145.0</td>\n",
       "      <td>1063.0</td>\n",
       "      <td>6.0</td>\n",
       "      <td>0.0</td>\n",
       "      <td>10.0</td>\n",
       "    </tr>\n",
       "    <tr>\n",
       "      <th>British Columbia</th>\n",
       "      <td>321.0</td>\n",
       "      <td>122.0</td>\n",
       "      <td>658.0</td>\n",
       "      <td>3.0</td>\n",
       "      <td>1.0</td>\n",
       "      <td>5.0</td>\n",
       "    </tr>\n",
       "    <tr>\n",
       "      <th>Yukon Territory</th>\n",
       "      <td>38.0</td>\n",
       "      <td>28.0</td>\n",
       "      <td>79.0</td>\n",
       "      <td>1.0</td>\n",
       "      <td>0.0</td>\n",
       "      <td>4.0</td>\n",
       "    </tr>\n",
       "    <tr>\n",
       "      <th>New Brunswick</th>\n",
       "      <td>1.0</td>\n",
       "      <td>0.0</td>\n",
       "      <td>0.0</td>\n",
       "      <td>NaN</td>\n",
       "      <td>NaN</td>\n",
       "      <td>NaN</td>\n",
       "    </tr>\n",
       "    <tr>\n",
       "      <th>Ontario</th>\n",
       "      <td>38.0</td>\n",
       "      <td>9.0</td>\n",
       "      <td>68.0</td>\n",
       "      <td>1.0</td>\n",
       "      <td>0.0</td>\n",
       "      <td>1.0</td>\n",
       "    </tr>\n",
       "    <tr>\n",
       "      <th>Quebec</th>\n",
       "      <td>31.0</td>\n",
       "      <td>10.0</td>\n",
       "      <td>63.0</td>\n",
       "      <td>NaN</td>\n",
       "      <td>NaN</td>\n",
       "      <td>NaN</td>\n",
       "    </tr>\n",
       "    <tr>\n",
       "      <th>East Arctic</th>\n",
       "      <td>8.0</td>\n",
       "      <td>2.0</td>\n",
       "      <td>21.0</td>\n",
       "      <td>NaN</td>\n",
       "      <td>NaN</td>\n",
       "      <td>NaN</td>\n",
       "    </tr>\n",
       "    <tr>\n",
       "      <th>West Arctic</th>\n",
       "      <td>2.0</td>\n",
       "      <td>2.0</td>\n",
       "      <td>2.0</td>\n",
       "      <td>NaN</td>\n",
       "      <td>NaN</td>\n",
       "      <td>NaN</td>\n",
       "    </tr>\n",
       "    <tr>\n",
       "      <th>Practice Cliffs1</th>\n",
       "      <td>20.0</td>\n",
       "      <td>2.0</td>\n",
       "      <td>36.0</td>\n",
       "      <td>NaN</td>\n",
       "      <td>NaN</td>\n",
       "      <td>NaN</td>\n",
       "    </tr>\n",
       "  </tbody>\n",
       "</table>\n",
       "</div>"
      ],
      "text/plain": [
       "                           1951–2013                                \\\n",
       "                 Number of Accidents Deaths Total Persons Involved   \n",
       "Alberta                        539.0  145.0                 1063.0   \n",
       "British Columbia               321.0  122.0                  658.0   \n",
       "Yukon Territory                 38.0   28.0                   79.0   \n",
       "New Brunswick                    1.0    0.0                    0.0   \n",
       "Ontario                         38.0    9.0                   68.0   \n",
       "Quebec                          31.0   10.0                   63.0   \n",
       "East Arctic                      8.0    2.0                   21.0   \n",
       "West Arctic                      2.0    2.0                    2.0   \n",
       "Practice Cliffs1                20.0    2.0                   36.0   \n",
       "\n",
       "                                2014                                \n",
       "                 Number of Accidents Deaths Total Persons Involved  \n",
       "Alberta                          6.0    0.0                   10.0  \n",
       "British Columbia                 3.0    1.0                    5.0  \n",
       "Yukon Territory                  1.0    0.0                    4.0  \n",
       "New Brunswick                    NaN    NaN                    NaN  \n",
       "Ontario                          1.0    0.0                    1.0  \n",
       "Quebec                           NaN    NaN                    NaN  \n",
       "East Arctic                      NaN    NaN                    NaN  \n",
       "West Arctic                      NaN    NaN                    NaN  \n",
       "Practice Cliffs1                 NaN    NaN                    NaN  "
      ]
     },
     "execution_count": 15,
     "metadata": {},
     "output_type": "execute_result"
    }
   ],
   "source": [
    "df2.loc['Canada']"
   ]
  },
  {
   "cell_type": "code",
   "execution_count": 23,
   "metadata": {
    "collapsed": false
   },
   "outputs": [
    {
     "data": {
      "text/plain": [
       "1951–2013  Number of Accidents        539.0\n",
       "           Deaths                     145.0\n",
       "           Total Persons Involved    1063.0\n",
       "2014       Number of Accidents          6.0\n",
       "           Deaths                       0.0\n",
       "           Total Persons Involved      10.0\n",
       "Name: (Canada, Alberta), dtype: float64"
      ]
     },
     "execution_count": 23,
     "metadata": {},
     "output_type": "execute_result"
    }
   ],
   "source": [
    "#df2.iloc[0]\n",
    "df2.loc['Canada', 'Alberta']"
   ]
  },
  {
   "cell_type": "code",
   "execution_count": null,
   "metadata": {
    "collapsed": true
   },
   "outputs": [],
   "source": []
  }
 ],
 "metadata": {
  "kernelspec": {
   "display_name": "Python 3",
   "language": "python",
   "name": "python3"
  },
  "language_info": {
   "codemirror_mode": {
    "name": "ipython",
    "version": 3
   },
   "file_extension": ".py",
   "mimetype": "text/x-python",
   "name": "python",
   "nbconvert_exporter": "python",
   "pygments_lexer": "ipython3",
   "version": "3.5.1"
  },
  "widgets": {
   "state": {},
   "version": "1.1.2"
  }
 },
 "nbformat": 4,
 "nbformat_minor": 0
}
